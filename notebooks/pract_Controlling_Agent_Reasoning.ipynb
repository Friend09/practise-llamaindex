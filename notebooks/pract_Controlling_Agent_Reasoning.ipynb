{
 "cells": [
  {
   "cell_type": "markdown",
   "metadata": {},
   "source": [
    "# Controlling Agent Reasoning Loop with `return_direct` in Tools"
   ]
  },
  {
   "cell_type": "markdown",
   "metadata": {},
   "source": [
    "## SETUP"
   ]
  },
  {
   "cell_type": "code",
   "execution_count": 1,
   "metadata": {},
   "outputs": [],
   "source": [
    "import os\n",
    "from dotenv import load_dotenv, find_dotenv\n",
    "\n",
    "_ = load_dotenv(find_dotenv())\n",
    "OPENAI_API_KEY = os.getenv(\"OPENAI_API_KEY\")\n",
    "LANGCHAIN_API_KEY = os.getenv(\"LANGCHAIN_API_KEY\")\n",
    "ELEVENLABS_API_KEY = os.getenv(\"ELEVENLABS_API_KEY\")\n",
    "MISTRALAI_API_KEY = os.getenv(\"MISTRALAI_API_KEY\")\n",
    "ANTHROPIC_API_KEY = os.getenv(\"ANTHROPIC_API_KEY\")"
   ]
  },
  {
   "cell_type": "code",
   "execution_count": 3,
   "metadata": {},
   "outputs": [],
   "source": [
    "from typing import Optional\n",
    "\n",
    "from llama_index.llms.openai import OpenAI\n",
    "from llama_index.core.llms import ChatMessage\n",
    "from llama_index.core.tools import BaseTool, FunctionTool\n",
    "from llama_index.core.agent import FunctionCallingAgentWorker\n",
    "from llama_index.core.agent import AgentRunner\n",
    "from llama_index.core.bridge.pydantic import BaseModel"
   ]
  },
  {
   "cell_type": "code",
   "execution_count": 4,
   "metadata": {},
   "outputs": [],
   "source": [
    "llm_openai = OpenAI(api_key=OPENAI_API_KEY, model=\"gpt-4o\")"
   ]
  },
  {
   "cell_type": "markdown",
   "metadata": {},
   "source": [
    "## BOOKING TOOLS"
   ]
  },
  {
   "cell_type": "code",
   "execution_count": 16,
   "metadata": {},
   "outputs": [],
   "source": [
    "bookings = {}\n",
    "\n",
    "\n",
    "class Booking(BaseModel):\n",
    "    name: Optional[str] = None\n",
    "    email: Optional[str] = None\n",
    "    phone: Optional[str] = None\n",
    "    date: Optional[str] = None\n",
    "    time: Optional[str] = None\n",
    "\n",
    "\n",
    "def get_booking_state(user_id: str) -> str:\n",
    "    \"\"\"Get the current state of a booking for a given booking ID.\"\"\"\n",
    "    try:\n",
    "        return str(bookings[user_id].dict())\n",
    "    except:\n",
    "        return f\"Booking ID {user_id} not found\"\n",
    "\n",
    "\n",
    "def update_booking(user_id: str, property: str, value: str) -> str:\n",
    "    \"\"\"Update a property of a booking for a given booking ID. Only enter details that are explicitly provided.\"\"\"\n",
    "    booking = bookings[user_id]\n",
    "    setattr(booking, property, value)\n",
    "    return f\"Booking ID {user_id} updated with {property} = {value}\"\n",
    "\n",
    "\n",
    "def create_booking(user_id: str) -> str:\n",
    "    \"\"\"Create a new booking and return the booking ID.\"\"\"\n",
    "    bookings[user_id] = Booking()\n",
    "    return \"Booking created, but not yet confirmed. Please provide your name, email, phone, date, & time.\"\n",
    "\n",
    "\n",
    "def confirm_booking(user_id: str) -> str:\n",
    "    \"\"\"Confirm a booking for a given booking ID.\"\"\"\n",
    "    booking = bookings[user_id]\n",
    "\n",
    "    if booking.name is None:\n",
    "        raise ValueError(\"Please provide your name.\")\n",
    "\n",
    "    if booking.email is None:\n",
    "        raise ValueError(\"Please provide your email.\")\n",
    "\n",
    "    if booking.phone is None:\n",
    "        raise ValueError(\"Please provide your phone number\")\n",
    "    if booking.date is None:\n",
    "        raise ValueError(\"Please provide the date of your booking \")\n",
    "    if booking.time is None:\n",
    "        raise ValueError(\"Please provide the time of your booking.\")\n",
    "\n",
    "    return f\"Booking ID {user_id} confirmed!\""
   ]
  },
  {
   "cell_type": "markdown",
   "metadata": {},
   "source": [
    "## EXPERIMENT 1"
   ]
  },
  {
   "cell_type": "code",
   "execution_count": 17,
   "metadata": {},
   "outputs": [],
   "source": [
    "tool_get_booking_state = FunctionTool.from_defaults(fn=get_booking_state)\n",
    "tool_update_booking = FunctionTool.from_defaults(fn=update_booking)\n",
    "tool_create_booking = FunctionTool.from_defaults(fn=create_booking)\n",
    "tool_confirm_booking = FunctionTool.from_defaults(fn=confirm_booking)"
   ]
  },
  {
   "cell_type": "code",
   "execution_count": 19,
   "metadata": {},
   "outputs": [],
   "source": [
    "user = \"user123\"\n",
    "prefix_messages = [\n",
    "    ChatMessage(\n",
    "        role=\"system\",\n",
    "        content=(\n",
    "            f\"\"\"You are now connected to the booking system and helping the {user} with making a booking. Only enter details that the user has explicityly provided. Do not make up any details.\n",
    "\"\"\"\n",
    "        ),\n",
    "    )\n",
    "]"
   ]
  },
  {
   "cell_type": "code",
   "execution_count": 24,
   "metadata": {},
   "outputs": [],
   "source": [
    "# create agent\n",
    "worker_openai = FunctionCallingAgentWorker(\n",
    "    tools=[\n",
    "        tool_get_booking_state,\n",
    "        tool_create_booking,\n",
    "        tool_update_booking,\n",
    "        tool_confirm_booking,\n",
    "    ],\n",
    "    llm=llm_openai,\n",
    "    prefix_messages=prefix_messages,\n",
    "    max_function_calls=10,\n",
    "    allow_parallel_tool_calls=False,\n",
    "    verbose=True,\n",
    ")\n",
    "\n",
    "agent_openai = AgentRunner(worker_openai)"
   ]
  },
  {
   "cell_type": "code",
   "execution_count": 25,
   "metadata": {},
   "outputs": [
    {
     "name": "stdout",
     "output_type": "stream",
     "text": [
      "Added user message to memory: Please assist me with a trip booking\n",
      "=== LLM Response ===\n",
      "I'd be happy to help you with your trip booking. Let's start by creating a new booking for you.\n",
      "\n",
      "I'll need your user ID to proceed. Could you please provide that?\n"
     ]
    }
   ],
   "source": [
    "response = agent_openai.chat(\"Please assist me with a trip booking\")"
   ]
  },
  {
   "cell_type": "code",
   "execution_count": 26,
   "metadata": {},
   "outputs": [
    {
     "name": "stdout",
     "output_type": "stream",
     "text": [
      "Added user message to memory: Sure! My name is Raghu, my email id is test@gmail.com\n",
      "=== LLM Response ===\n",
      "I need your user ID to proceed with the booking. Could you please provide that?\n"
     ]
    }
   ],
   "source": [
    "response = agent_openai.chat(\"Sure! My name is Raghu, my email id is test@gmail.com\")"
   ]
  },
  {
   "cell_type": "code",
   "execution_count": 28,
   "metadata": {},
   "outputs": [
    {
     "name": "stdout",
     "output_type": "stream",
     "text": [
      "Added user message to memory: Cool. Phone number is 39429384923, preferred data and time are April 20th and 12PM respectively.\n",
      "=== LLM Response ===\n",
      "To proceed with your booking, I need your user ID. Could you please provide that?\n"
     ]
    }
   ],
   "source": [
    "response = agent_openai.chat(\n",
    "    \"Cool. Phone number is 39429384923, preferred data and time are April 20th and 12PM respectively.\"\n",
    ")"
   ]
  },
  {
   "cell_type": "code",
   "execution_count": 29,
   "metadata": {},
   "outputs": [
    {
     "name": "stdout",
     "output_type": "stream",
     "text": [
      "Added user message to memory: my id is A213B\n",
      "=== Calling Function ===\n",
      "Calling function: create_booking with args: {\"user_id\": \"A213B\"}\n",
      "=== Function Output ===\n",
      "Booking created, but not yet confirmed. Please provide your name, email, phone, date, & time.\n",
      "=== Calling Function ===\n",
      "Calling function: update_booking with args: {\"user_id\": \"A213B\", \"property\": \"name\", \"value\": \"Raghu\"}\n",
      "=== Function Output ===\n",
      "Booking ID A213B updated with name = Raghu\n",
      "=== Calling Function ===\n",
      "Calling function: update_booking with args: {\"user_id\": \"A213B\", \"property\": \"email\", \"value\": \"test@gmail.com\"}\n",
      "=== Function Output ===\n",
      "Booking ID A213B updated with email = test@gmail.com\n",
      "=== Calling Function ===\n",
      "Calling function: update_booking with args: {\"user_id\": \"A213B\", \"property\": \"phone\", \"value\": \"39429384923\"}\n",
      "=== Function Output ===\n",
      "Booking ID A213B updated with phone = 39429384923\n",
      "=== Calling Function ===\n",
      "Calling function: update_booking with args: {\"user_id\": \"A213B\", \"property\": \"date\", \"value\": \"April 20th\"}\n",
      "=== Function Output ===\n",
      "Booking ID A213B updated with date = April 20th\n",
      "=== Calling Function ===\n",
      "Calling function: update_booking with args: {\"user_id\": \"A213B\", \"property\": \"time\", \"value\": \"12PM\"}\n",
      "=== Function Output ===\n",
      "Booking ID A213B updated with time = 12PM\n",
      "=== Calling Function ===\n",
      "Calling function: confirm_booking with args: {\"user_id\": \"A213B\"}\n",
      "=== Function Output ===\n",
      "Booking ID A213B confirmed!\n",
      "=== LLM Response ===\n",
      "Your booking has been successfully confirmed! Here are the details:\n",
      "\n",
      "- **Name:** Raghu\n",
      "- **Email:** test@gmail.com\n",
      "- **Phone:** 39429384923\n",
      "- **Date:** April 20th\n",
      "- **Time:** 12PM\n",
      "\n",
      "If you need any further assistance, feel free to ask. Have a great trip!\n"
     ]
    }
   ],
   "source": [
    "response = agent_openai.chat(\"my id is A213B\")"
   ]
  },
  {
   "cell_type": "code",
   "execution_count": 30,
   "metadata": {},
   "outputs": [
    {
     "name": "stdout",
     "output_type": "stream",
     "text": [
      "Your booking has been successfully confirmed! Here are the details:\n",
      "\n",
      "- **Name:** Raghu\n",
      "- **Email:** test@gmail.com\n",
      "- **Phone:** 39429384923\n",
      "- **Date:** April 20th\n",
      "- **Time:** 12PM\n",
      "\n",
      "If you need any further assistance, feel free to ask. Have a great trip!\n"
     ]
    }
   ],
   "source": [
    "print(response)"
   ]
  },
  {
   "cell_type": "markdown",
   "metadata": {},
   "source": [
    "## EXPERIMENT 2"
   ]
  },
  {
   "cell_type": "markdown",
   "metadata": {},
   "source": [
    "- return_dict = True -> response is given directly from the tool but not sent to LLM"
   ]
  },
  {
   "cell_type": "code",
   "execution_count": 33,
   "metadata": {},
   "outputs": [],
   "source": [
    "tool_get_booking_state = FunctionTool.from_defaults(\n",
    "    fn=get_booking_state, return_direct=True\n",
    ")\n",
    "tool_confirm_booking = FunctionTool.from_defaults(\n",
    "    fn=confirm_booking, return_direct=True\n",
    ")\n",
    "tool_create_booking = FunctionTool.from_defaults(fn=create_booking, return_direct=True)\n",
    "tool_update_booking = FunctionTool.from_defaults(fn=update_booking, return_direct=True)"
   ]
  },
  {
   "cell_type": "code",
   "execution_count": 34,
   "metadata": {},
   "outputs": [],
   "source": [
    "user = \"user123\"\n",
    "prefix_messages = [\n",
    "    ChatMessage(\n",
    "        role=\"system\",\n",
    "        content=(\n",
    "            f\"You are now connected to the booking system and helping {user} with making a booking. \"\n",
    "            \"Only enter details that the user has explicitly provided. \"\n",
    "            \"Do not make up any details.\"\n",
    "        ),\n",
    "    )\n",
    "]"
   ]
  },
  {
   "cell_type": "code",
   "execution_count": 35,
   "metadata": {},
   "outputs": [],
   "source": [
    "worker_openai = FunctionCallingAgentWorker(\n",
    "    tools=[\n",
    "        tool_confirm_booking,\n",
    "        tool_create_booking,\n",
    "        tool_get_booking_state,\n",
    "        tool_update_booking,\n",
    "    ],\n",
    "    llm=llm_openai,\n",
    "    prefix_messages=prefix_messages,\n",
    "    allow_parallel_tool_calls=False,\n",
    "    max_function_calls=10,\n",
    "    verbose=True,\n",
    ")\n",
    "\n",
    "agent_openai = AgentRunner(worker_openai)"
   ]
  },
  {
   "cell_type": "code",
   "execution_count": 36,
   "metadata": {},
   "outputs": [
    {
     "name": "stdout",
     "output_type": "stream",
     "text": [
      "Added user message to memory: Hello! I would like to make a booking.\n",
      "=== LLM Response ===\n",
      "Sure! I can help you with that. Let's start by creating a new booking for you.\n",
      "\n",
      "Could you please provide me with your user ID?\n"
     ]
    }
   ],
   "source": [
    "response = agent_openai.chat(\"Hello! I would like to make a booking.\")"
   ]
  },
  {
   "cell_type": "code",
   "execution_count": 37,
   "metadata": {},
   "outputs": [
    {
     "name": "stdout",
     "output_type": "stream",
     "text": [
      "Added user message to memory: Sure! My name is Ravi, and my email is ravi@gmail.com\n",
      "=== LLM Response ===\n",
      "I need your user ID to proceed with the booking. Could you please provide that?\n"
     ]
    }
   ],
   "source": [
    "response = agent_openai.chat(\"Sure! My name is Ravi, and my email is ravi@gmail.com\")"
   ]
  },
  {
   "cell_type": "code",
   "execution_count": 38,
   "metadata": {},
   "outputs": [
    {
     "name": "stdout",
     "output_type": "stream",
     "text": [
      "Added user message to memory: It is A217B1\n",
      "=== Calling Function ===\n",
      "Calling function: create_booking with args: {\"user_id\": \"A217B1\"}\n",
      "=== Function Output ===\n",
      "Booking created, but not yet confirmed. Please provide your name, email, phone, date, & time.\n"
     ]
    }
   ],
   "source": [
    "response = agent_openai.chat(\"It is A217B1\")"
   ]
  },
  {
   "cell_type": "code",
   "execution_count": 39,
   "metadata": {},
   "outputs": [
    {
     "name": "stdout",
     "output_type": "stream",
     "text": [
      "Added user message to memory: Ravi\n",
      "=== Calling Function ===\n",
      "Calling function: update_booking with args: {\"user_id\": \"A217B1\", \"property\": \"name\", \"value\": \"Ravi\"}\n",
      "=== Function Output ===\n",
      "Booking ID A217B1 updated with name = Ravi\n"
     ]
    }
   ],
   "source": [
    "response = agent_openai.chat(\"Ravi\")"
   ]
  },
  {
   "cell_type": "code",
   "execution_count": 40,
   "metadata": {},
   "outputs": [
    {
     "name": "stdout",
     "output_type": "stream",
     "text": [
      "Added user message to memory: date June 20, 2024 @ 8:30 AM\n",
      "=== Calling Function ===\n",
      "Calling function: update_booking with args: {\"user_id\": \"A217B1\", \"property\": \"date\", \"value\": \"June 20, 2024\"}\n",
      "=== Function Output ===\n",
      "Booking ID A217B1 updated with date = June 20, 2024\n"
     ]
    }
   ],
   "source": [
    "response = agent_openai.chat(\"date June 20, 2024 @ 8:30 AM\")"
   ]
  },
  {
   "cell_type": "code",
   "execution_count": 41,
   "metadata": {},
   "outputs": [
    {
     "name": "stdout",
     "output_type": "stream",
     "text": [
      "Added user message to memory: get me my booking details\n",
      "=== Calling Function ===\n",
      "Calling function: get_booking_state with args: {\"user_id\": \"A217B1\"}\n",
      "=== Function Output ===\n",
      "{'name': 'Ravi', 'email': None, 'phone': None, 'date': 'June 20, 2024', 'time': None}\n"
     ]
    }
   ],
   "source": [
    "response = agent_openai.chat(\"get me my booking details\")"
   ]
  }
 ],
 "metadata": {
  "kernelspec": {
   "display_name": ".venv",
   "language": "python",
   "name": "python3"
  },
  "language_info": {
   "codemirror_mode": {
    "name": "ipython",
    "version": 3
   },
   "file_extension": ".py",
   "mimetype": "text/x-python",
   "name": "python",
   "nbconvert_exporter": "python",
   "pygments_lexer": "ipython3",
   "version": "3.10.14"
  }
 },
 "nbformat": 4,
 "nbformat_minor": 2
}
