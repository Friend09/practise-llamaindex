{
 "cells": [
  {
   "cell_type": "markdown",
   "metadata": {},
   "source": [
    "# TEXT2SQL USING LLAMAINDEX"
   ]
  },
  {
   "cell_type": "markdown",
   "metadata": {},
   "source": [
    "## LOAD DATA"
   ]
  },
  {
   "cell_type": "code",
   "execution_count": 1,
   "metadata": {},
   "outputs": [],
   "source": [
    "rows = [\n",
    "    # iPhone13 Reviews\n",
    "    {\n",
    "        \"category\": \"Phone\",\n",
    "        \"product_name\": \"Iphone13\",\n",
    "        \"review\": \"The iPhone13 is a stellar leap forward. From its sleek design to the crystal-clear display, it screams luxury and functionality. Coupled with the enhanced battery life and an A15 chip, it's clear Apple has once again raised the bar in the smartphone industry.\",\n",
    "    },\n",
    "    {\n",
    "        \"category\": \"Phone\",\n",
    "        \"product_name\": \"Iphone13\",\n",
    "        \"review\": \"This model brings the brilliance of the ProMotion display, changing the dynamics of screen interaction. The rich colors, smooth transitions, and lag-free experience make daily tasks and gaming absolutely delightful.\",\n",
    "    },\n",
    "    {\n",
    "        \"category\": \"Phone\",\n",
    "        \"product_name\": \"Iphone13\",\n",
    "        \"review\": \"The 5G capabilities are the true game-changer. Streaming, downloading, or even regular browsing feels like a breeze. It's remarkable how seamless the integration feels, and it's obvious that Apple has invested a lot in refining the experience.\",\n",
    "    },\n",
    "    # SamsungTV Reviews\n",
    "    {\n",
    "        \"category\": \"TV\",\n",
    "        \"product_name\": \"SamsungTV\",\n",
    "        \"review\": \"Samsung's display technology has always been at the forefront, but with this TV, they've outdone themselves. Every visual is crisp, the colors are vibrant, and the depth of the blacks is simply mesmerizing. The smart features only add to the luxurious viewing experience.\",\n",
    "    },\n",
    "    {\n",
    "        \"category\": \"TV\",\n",
    "        \"product_name\": \"SamsungTV\",\n",
    "        \"review\": \"This isn't just a TV; it's a centerpiece for the living room. The ultra-slim bezels and the sleek design make it a visual treat even when it's turned off. And when it's on, the 4K resolution delivers a cinematic experience right at home.\",\n",
    "    },\n",
    "    {\n",
    "        \"category\": \"TV\",\n",
    "        \"product_name\": \"SamsungTV\",\n",
    "        \"review\": \"The sound quality, often an oversight in many TVs, matches the visual prowess. It creates an enveloping atmosphere that's hard to get without an external sound system. Combined with its user-friendly interface, it's the TV I've always dreamt of.\",\n",
    "    },\n",
    "    # Ergonomic Chair Reviews\n",
    "    {\n",
    "        \"category\": \"Furniture\",\n",
    "        \"product_name\": \"Ergonomic Chair\",\n",
    "        \"review\": \"Shifting to this ergonomic chair was a decision I wish I'd made earlier. Not only does it look sophisticated in its design, but the level of comfort is unparalleled. Long hours at the desk now feel less daunting, and my back is definitely grateful.\",\n",
    "    },\n",
    "    {\n",
    "        \"category\": \"Furniture\",\n",
    "        \"product_name\": \"Ergonomic Chair\",\n",
    "        \"review\": \"The meticulous craftsmanship of this chair is evident. Every component, from the armrests to the wheels, feels premium. The adjustability features mean I can tailor it to my needs, ensuring optimal posture and comfort throughout the day.\",\n",
    "    },\n",
    "    {\n",
    "        \"category\": \"Furniture\",\n",
    "        \"product_name\": \"Ergonomic Chair\",\n",
    "        \"review\": \"I was initially drawn to its aesthetic appeal, but the functional benefits have been profound. The breathable material ensures no discomfort even after prolonged use, and the robust build gives me confidence that it's a chair built to last.\",\n",
    "    },\n",
    "]"
   ]
  },
  {
   "cell_type": "markdown",
   "metadata": {},
   "source": []
  }
 ],
 "metadata": {
  "kernelspec": {
   "display_name": ".venv",
   "language": "python",
   "name": "python3"
  },
  "language_info": {
   "codemirror_mode": {
    "name": "ipython",
    "version": 3
   },
   "file_extension": ".py",
   "mimetype": "text/x-python",
   "name": "python",
   "nbconvert_exporter": "python",
   "pygments_lexer": "ipython3",
   "version": "3.12.2"
  }
 },
 "nbformat": 4,
 "nbformat_minor": 2
}
