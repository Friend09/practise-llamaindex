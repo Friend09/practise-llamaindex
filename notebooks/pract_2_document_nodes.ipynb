{
 "cells": [
  {
   "cell_type": "markdown",
   "metadata": {},
   "source": [
    "# 2 LlamaIndex Bottoms-Up Development - Documents and Nodes"
   ]
  },
  {
   "cell_type": "code",
   "execution_count": 1,
   "metadata": {},
   "outputs": [],
   "source": [
    "import os\n",
    "import sys"
   ]
  },
  {
   "cell_type": "code",
   "execution_count": 3,
   "metadata": {},
   "outputs": [],
   "source": [
    "sys.path.append(\n",
    "    \"/Users/vamsi_mbmax/Library/CloudStorage/OneDrive-Personal/01_vam_PROJECTS/LEARNING/proj_AI/dev_proj_AI/pract-llamaindex/ref_llamaindex_bottomsup\"\n",
    ")"
   ]
  },
  {
   "cell_type": "code",
   "execution_count": 27,
   "metadata": {},
   "outputs": [],
   "source": [
    "from llama_docs_bot.markdown_docs_reader import MarkdownDocsReader\n",
    "from llama_index.core import SimpleDirectoryReader\n",
    "\n",
    "\n",
    "def load_markdown_docs(filepath):\n",
    "    \"\"\"Load markdown docs from a directory, excluding all other file types.\"\"\"\n",
    "    loader = SimpleDirectoryReader(\n",
    "        input_dir=filepath,\n",
    "        exclude=[\n",
    "            \"*.rst\",\n",
    "            \"*.ipynb\",\n",
    "            \"*.py\",\n",
    "            \"*.bat\",\n",
    "            \"*.txt\",\n",
    "            \"*.png\",\n",
    "            \"*.jpg\",\n",
    "            \"*.jpeg\",\n",
    "            \"*.csv\",\n",
    "            \"*.html\",\n",
    "            \"*.js\",\n",
    "            \"*.css\",\n",
    "            \"*.pdf\",\n",
    "            \"*.json\",\n",
    "        ],\n",
    "        file_extractor={\".md\": MarkdownDocsReader()},\n",
    "        recursive=True,\n",
    "    )\n",
    "\n",
    "    return loader.load_data()"
   ]
  },
  {
   "cell_type": "code",
   "execution_count": 31,
   "metadata": {},
   "outputs": [],
   "source": [
    "# load the documents from the docs path\n",
    "os.chdir(\n",
    "    \"/Users/vamsi_mbmax/Library/CloudStorage/OneDrive-Personal/01_vam_PROJECTS/LEARNING/proj_AI/dev_proj_AI/pract-llamaindex/ref_llamaindex_bottomsup/docs\"\n",
    ")\n",
    "\n",
    "getting_started_docs = load_markdown_docs(\"./getting_started\")\n",
    "community_docs = load_markdown_docs(\"./community\")\n",
    "data_docs = load_markdown_docs(\"./core_modules/data_modules\")\n",
    "agent_docs = load_markdown_docs(\"./core_modules/agent_modules\")\n",
    "model_docs = load_markdown_docs(\"./core_modules/model_modules\")\n",
    "query_docs = load_markdown_docs(\"./core_modules/query_modules\")\n",
    "supporting_docs = load_markdown_docs(\"./core_modules/supporting_modules\")\n",
    "tutorials_docs = load_markdown_docs(\"./end_to_end_tutorials\")\n",
    "contributing_docs = load_markdown_docs(\"./development\")"
   ]
  },
  {
   "cell_type": "code",
   "execution_count": 33,
   "metadata": {},
   "outputs": [
    {
     "name": "stdout",
     "output_type": "stream",
     "text": [
      "File Name: /Users/vamsi_mbmax/Library/CloudStorage/OneDrive-Personal/01_vam_PROJECTS/LEARNING/proj_AI/dev_proj_AI/pract-llamaindex/ref_llamaindex_bottomsup/docs/core_modules/agent_modules/agents/root.md\n",
      "Content Type: text\n",
      "Header Path: Data Agents/Concept/Tool Abstractions\n",
      "Links: \n",
      "file_path: /Users/vamsi_mbmax/Library/CloudStorage/OneDrive-Personal/01_vam_PROJECTS/LEARNING/proj_AI/dev_proj_AI/pract-llamaindex/ref_llamaindex_bottomsup/docs/core_modules/agent_modules/agents/root.md\n",
      "file_name: root.md\n",
      "file_size: 2340\n",
      "creation_date: 2024-04-06\n",
      "last_modified_date: 2024-04-06\n",
      "\n",
      "You can learn more about our Tool abstractions in our Tools section.\n"
     ]
    }
   ],
   "source": [
    "from llama_index.core.schema import MetadataMode\n",
    "\n",
    "print(agent_docs[5].get_content(metadata_mode=MetadataMode.ALL))"
   ]
  },
  {
   "cell_type": "code",
   "execution_count": 37,
   "metadata": {},
   "outputs": [
    {
     "name": "stdout",
     "output_type": "stream",
     "text": [
      "{'File Name': '/Users/vamsi_mbmax/Library/CloudStorage/OneDrive-Personal/01_vam_PROJECTS/LEARNING/proj_AI/dev_proj_AI/pract-llamaindex/ref_llamaindex_bottomsup/docs/core_modules/agent_modules/agents/modules.md', 'Content Type': 'text', 'Header Path': 'Module Guides', 'Links': '', 'file_path': '/Users/vamsi_mbmax/Library/CloudStorage/OneDrive-Personal/01_vam_PROJECTS/LEARNING/proj_AI/dev_proj_AI/pract-llamaindex/ref_llamaindex_bottomsup/docs/core_modules/agent_modules/agents/modules.md', 'file_name': 'modules.md', 'file_size': 619, 'creation_date': '2024-04-06', 'last_modified_date': '2024-04-06'}\n"
     ]
    }
   ],
   "source": [
    "print(agent_docs[0].metadata)"
   ]
  },
  {
   "cell_type": "code",
   "execution_count": 38,
   "metadata": {},
   "outputs": [],
   "source": [
    "text_template = \"Content Metadata:\\n{metadata_str}\\n\\nContent:\\n{content}\"\n",
    "\n",
    "metadata_template = \"{key}: {value},\"\n",
    "metadata_seperator = \" \"\n",
    "\n",
    "for doc in agent_docs:\n",
    "    doc.text_template = text_template\n",
    "    doc.metadata_template = metadata_template\n",
    "    doc.metadata_seperator = metadata_seperator"
   ]
  },
  {
   "cell_type": "markdown",
   "metadata": {},
   "source": []
  },
  {
   "cell_type": "code",
   "execution_count": 39,
   "metadata": {},
   "outputs": [
    {
     "name": "stdout",
     "output_type": "stream",
     "text": [
      "Content Metadata:\n",
      "File Name: /Users/vamsi_mbmax/Library/CloudStorage/OneDrive-Personal/01_vam_PROJECTS/LEARNING/proj_AI/dev_proj_AI/pract-llamaindex/ref_llamaindex_bottomsup/docs/core_modules/agent_modules/agents/modules.md, Content Type: text, Header Path: Module Guides, Links: , file_path: /Users/vamsi_mbmax/Library/CloudStorage/OneDrive-Personal/01_vam_PROJECTS/LEARNING/proj_AI/dev_proj_AI/pract-llamaindex/ref_llamaindex_bottomsup/docs/core_modules/agent_modules/agents/modules.md, file_name: modules.md, file_size: 619, creation_date: 2024-04-06, last_modified_date: 2024-04-06,\n",
      "\n",
      "Content:\n",
      "These guide provide an overview of how to use our agent classes.\n",
      "\n",
      "For more detailed guides on how to use specific tools, check out our tools module guides.\n"
     ]
    }
   ],
   "source": [
    "print(agent_docs[0].get_content(metadata_mode=MetadataMode.ALL))"
   ]
  },
  {
   "cell_type": "code",
   "execution_count": null,
   "metadata": {},
   "outputs": [],
   "source": []
  }
 ],
 "metadata": {
  "kernelspec": {
   "display_name": ".venv",
   "language": "python",
   "name": "python3"
  },
  "language_info": {
   "codemirror_mode": {
    "name": "ipython",
    "version": 3
   },
   "file_extension": ".py",
   "mimetype": "text/x-python",
   "name": "python",
   "nbconvert_exporter": "python",
   "pygments_lexer": "ipython3",
   "version": "3.12.2"
  }
 },
 "nbformat": 4,
 "nbformat_minor": 2
}
